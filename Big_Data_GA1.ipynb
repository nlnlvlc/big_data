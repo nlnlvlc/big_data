{
  "nbformat": 4,
  "nbformat_minor": 0,
  "metadata": {
    "colab": {
      "provenance": []
    },
    "kernelspec": {
      "name": "python3",
      "display_name": "Python 3"
    },
    "language_info": {
      "name": "python"
    }
  },
  "cells": [
    {
      "cell_type": "markdown",
      "source": [
        "**Purpose**\n",
        "\n",
        "Processes Census data regarding Educational Attainment in the United States, which can be found [here](https://www.census.gov/data/tables/2022/demo/educational-attainment/cps-detailed-tables.html)."
      ],
      "metadata": {
        "id": "4MnJ_RXM_dey"
      }
    },
    {
      "cell_type": "code",
      "execution_count": null,
      "metadata": {
        "id": "hrUlY7y6c_RU"
      },
      "outputs": [],
      "source": [
        "import pandas as pd\n",
        "import matplotlib.pyplot as plt\n",
        "import numpy as np"
      ]
    },
    {
      "cell_type": "code",
      "source": [
        "#click the \"Files\" icon in the left sidebar\n",
        "#drag and drop the table files into the sidebar\n",
        "#table files should have paths included in following vars\n",
        "\n",
        "setOne = ['/content/table-1-1.xlsx', '/content/table-1-2.xlsx',\n",
        "          '/content/table-1-3.xlsx', '/content/table-1-4.xlsx',\n",
        "          '/content/table-1-5.xlsx', '/content/table-1-6.xlsx',\n",
        "          '/content/table-1-7.xlsx', '/content/table-1-8.xlsx',\n",
        "          '/content/table-1-9.xlsx']\n",
        "\n",
        "setTwo = ['/content/table-2-1.xlsx', '/content/table-2-2.xlsx',\n",
        "          '/content/table-2-3.xlsx']\n",
        "\n",
        "setThree = ['/content/table-3.xlsx']"
      ],
      "metadata": {
        "id": "jDUCsl3GgD4Q"
      },
      "execution_count": null,
      "outputs": []
    },
    {
      "cell_type": "code",
      "source": [
        "#reads and cleans data from xlxs of Table 1.x\n",
        "def process_tableOne(fileName: str) -> None:\n",
        "\n",
        "  #extract data from excel file\n",
        "  data = pd.read_excel(fileName, index_col=None, header=5)\n",
        "  data.rename(columns = {'Unnamed: 0':'Ages'}, inplace = True)\n",
        "  #remove tabs\n",
        "  data['Ages'] = data['Ages'].map(lambda x: x.lstrip('\\t').lstrip())\n",
        "\n",
        "  data.set_index(\"Ages\", inplace=True)\n",
        "\n",
        "  data.drop(['18 years and over', '25 years and over', '75 years and over'],\n",
        "            inplace=True)\n",
        "  #divide data into separate dataframes based on sex\n",
        "  both_df = data.iloc[1:12]\n",
        "  male_df = data.iloc[13:24]\n",
        "  female_df = data.iloc[25:36]\n",
        "\n",
        "  dfs = [(\"both\", both_df), (\"male\", male_df), (\"female\", female_df)]\n",
        "\n",
        "  return dfs\n",
        "\n",
        "def plotOne(dfs):\n",
        "  #dfs = [(\"Both Sexes\", both_df), (\"Male\", male_df), (\"Female\", female_df)]\n",
        "\n",
        "  df1 = dfs[0][1]\n",
        "  df2 = dfs[1][1]\n",
        "  df3 = dfs[2][1]\n",
        "  #get position of indices\n",
        "  x_axis = np.arange(len(df1))\n",
        "\n",
        "\n",
        "  fig = plt.figure(figsize =(20,15))\n",
        "\n",
        "  #offset the position of each set of plots to group\n",
        "  plt.bar(x_axis - .3, df1[\"Doctoral degree\"], .3, color= 'blue',\n",
        "          label=\"Male\")\n",
        "  plt.bar(x_axis, df2[\"Doctoral degree\"], .3, color= 'green',\n",
        "          label=\"Both\")\n",
        "  plt.bar(x_axis + .3, df3[\"Doctoral degree\"], .3, color='red',\n",
        "          label=\"Female\")\n",
        "\n",
        "  plt.xlabel(\"Ages\")\n",
        "  plt.legend()\n",
        "  plt.xticks(x_axis, df2.index)\n",
        "  plt.title(\"Individuals w/ Doctoral Degrees\")\n",
        "  plt.show()\n"
      ],
      "metadata": {
        "id": "cqtkhY7ZgMa5"
      },
      "execution_count": null,
      "outputs": []
    },
    {
      "cell_type": "code",
      "source": [
        "#reads and cleans data from xlxs of Table 3\n",
        "def process_tableThree(fileName: str) -> None:\n",
        "  data = pd.read_excel(fileName, index_col=None, header=5)\n",
        "\n",
        "  #stores both levels of the headers as pairs\n",
        "  headers = [(\"All people\", \"Number\"),\n",
        "        (\"All people\", \"Percent\"),\n",
        "        (\"Male\", \"Number\"),\n",
        "        (\"Male\", \"Percent\"),\n",
        "        (\"Female\", \"Number\"),\n",
        "        (\"Female\", \"Percent\"),\n",
        "        (\"25 to 34 years old\", \"Number\"),\n",
        "        (\"25 to 34 years old\", \"Percent\"),\n",
        "        (\"35 to 54 years old\", \"Number\"),\n",
        "        (\"35 to 54 years old\", \"Percent\"),\n",
        "        (\"55 years old and older\", \"Number\"),\n",
        "        (\"55 years and older\", \"Percent\"),\n",
        "        (\"White\", \"Number\"),\n",
        "        (\"White\", \"Percent\"),\n",
        "        (\"Non-Hispanic White\", \"Number\"),\n",
        "        (\"Non-Hispanic White\", \"Percent\"),\n",
        "        (\"Black\", \"Number\"),\n",
        "        (\"Black\", \"Percent\"),\n",
        "        (\"Asian\", \"Number\"),\n",
        "        (\"Asian\", \"Percent\"),\n",
        "        (\"Hispanic (of any race)\", \"Number\"),\n",
        "        (\"Hispanic (of any race)\", \"Percent\")\n",
        "        ]\n",
        "  #convert into data frame to add to data\n",
        "  df = pd.DataFrame(headers)\n",
        "\n",
        "  #extract data from excel file\n",
        "  data = pd.read_excel(fileName, header=3, index_col=None)\n",
        "\n",
        "  #concat the header with the data\n",
        "  frames = [df, data]\n",
        "  condf = pd.concat(frames)\n",
        "\n",
        "  #get rid of uncessary columns and rows, set index\n",
        "  condf = condf.drop(0, axis=1)\n",
        "  condf = condf.iloc[24:]\n",
        "  condf = condf.drop([1], axis=1)\n",
        "  condf.set_index(\"Detailed years of school\", inplace=True)\n",
        "\n",
        "  #create multiindex header\n",
        "  condf.columns = pd.MultiIndex.from_tuples(headers)\n",
        "  condf.head()\n",
        "\n",
        "  #split data by level of education received\n",
        "  noDiploma = condf.iloc[1:9]\n",
        "  ged = condf.iloc[10:18]\n",
        "  diploma = condf.iloc[19:20]\n",
        "  noDegree = condf.iloc[21:26]\n",
        "  vocational = condf.iloc[27:32]\n",
        "  academic = condf.iloc[33:38]\n",
        "  bachelors = condf.iloc[39:43]\n",
        "\n",
        "  dfs = [noDiploma, ged, diploma, noDegree, vocational, academic, bachelors]\n"
      ],
      "metadata": {
        "id": "34b1pY3D8K7s"
      },
      "execution_count": null,
      "outputs": []
    },
    {
      "cell_type": "code",
      "source": [
        "#reads and cleans data from xlxs of Table 2.x\n",
        "def process_tableTwo(fileName: str) -> None:\n",
        "  data = pd.read_excel(fileName, index_col=None, header=5)\n",
        "  data.head()\n",
        "  data.rename(columns = {'Unnamed: 0':'Characteristic'}, inplace = True)\n",
        "\n",
        "  data['Characteristic']= data['Characteristic'].map(\n",
        "    lambda x: x.lstrip('\\t').lstrip())\n",
        "\n",
        "  data.set_index('Characteristic', inplace=True)\n",
        "\n",
        "  total_df = data.iloc[0:1]\n",
        "  marital_df = data.iloc[2:8]\n",
        "  household_df = data.iloc[9:19]\n",
        "  citizenship_df = data.iloc[20:33]\n",
        "  labor_df = data.iloc[34:37]\n",
        "  occupation_df = data.iloc[38:49]\n",
        "  industry_df = data.iloc[50:64]\n",
        "\n",
        "  dfs = [(\"marital\",marital_df), (\"household\", household_df),\n",
        "   (\"citizenship\",citizenship_df), (\"labor\", labor_df),\n",
        "    (\"occupation\", occupation_df),\n",
        "     (\"industry\", industry_df)]\n",
        "\n",
        "  return dfs\n",
        "\n",
        "def plotTwo(dfs):\n",
        "  #for df in dfs:\n",
        "  #  fig = plt.figure(figsize =(20,15))\n",
        "\n",
        "  #  plt.bar(df[1].index, df[1][\"Doctoral degree\"])\n",
        "  #  #plt.xlabel(\"Characteristics\")\n",
        "  #  plt.title(df[0])\n",
        "  #  plt.show()\n",
        "\n",
        "  x_axis = np.arange(len(marital_df))\n",
        "  #display bar graph\n",
        "\n",
        "  fig = plt.figure(figsize =(20,15))\n",
        "\n",
        "  plt.bar(x_axis, marital_df[\"Master's degree\"], .3)\n",
        "\n",
        "  plt.xlabel(\"Characteristics\")\n",
        "  #plt.legend()\n",
        "  plt.xticks(x_axis, marital_df.index)\n",
        "  plt.title(\"Individuals w/\")\n",
        "  plt.show()\n"
      ],
      "metadata": {
        "id": "3SoYdW6ZhhEm"
      },
      "execution_count": null,
      "outputs": []
    },
    {
      "cell_type": "code",
      "source": [
        "def transposeDF(dfs):\n",
        "\n",
        "  for df in dfs:\n",
        "    df = df.transpose()\n",
        "\n",
        "  male, both, female = dfs\n",
        "\n",
        "  no_sql = {}"
      ],
      "metadata": {
        "id": "c4YT9PaDQjuF"
      },
      "execution_count": null,
      "outputs": []
    },
    {
      "cell_type": "code",
      "source": [
        "#uncomment calls, one at a time, for example of visualization\n",
        "\n",
        "#process_tableOne(setOne[0])\n",
        "#process_tableTwo(setTwo[0])\n",
        "#process_tableThree(setThree[0])"
      ],
      "metadata": {
        "id": "iknKb0yZXJqh"
      },
      "execution_count": null,
      "outputs": []
    }
  ]
}